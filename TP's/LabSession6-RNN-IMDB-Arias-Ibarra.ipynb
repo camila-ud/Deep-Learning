{
 "cells": [
  {
   "cell_type": "markdown",
   "metadata": {
    "nbpresent": {
     "id": "18cde020-8365-4923-8590-7d111b4a41f8"
    }
   },
   "source": [
    "# ELU 502 Deep learning  IMT Atlantique -- Lab session 6\n",
    "Pierre Tandeo, François Rousseau - session: 1h20+3h"
   ]
  },
  {
   "cell_type": "markdown",
   "metadata": {
    "nbpresent": {
     "id": "797413a2-61f3-40e6-a8f0-242b28d4e090"
    }
   },
   "source": [
    "### Objectives: Perform sentiment analysis classification on *IMDB dataset* exploring multiples architectures of recurrent neural networks (RNN, LSTM, BiLSTM, ...) and transfer learning from word embeddings vectors to achieve better results on a NLP (Natural Language Processing) task.\n",
    "\n",
    "Hint: See the documentation of Keras for implementation details."
   ]
  },
  {
   "cell_type": "markdown",
   "metadata": {},
   "source": [
    "**What is IMDB ?**\n",
    "\n",
    "- \"Internet Movie DataBase\"\n",
    "- website that contains several movies reviews from users\n",
    "- [Imdb's site](https://www.imdb.com)\n",
    "\n",
    "Considering that we have only two classes of reviews (positive or negative). Could you predict the labels of reviews based only on text content of these reviews? Below, you will find 3 examples of reviews.\n",
    "\n",
    "**Review \\#1**\n",
    "\n",
    "*Quite simply, the finest gangster film ever made. No doubt about it, this a spectacular viewing experience. The acting along with the storyline makes this film a genuine masterpiece. The film covers a wide spectrum of genre keeping the viewer entertained throughout. TOP CLASS!*\n",
    "\n",
    "**Review \\#2**\n",
    "\n",
    "*This movie is like football, people only watch it because the think its 'cool' or 'popular', but really it is the most dreary repetitive and slow film i have had the displeasure in viewing. How this film grew to be such a ''great'' i do not know, bu ti know that it shouldn't be, Shawshank Redemption may not deserve to be second best film ever, but at least it is worthy of being where it is and is certainly a better film than any of the Godfathers.\n",
    "So please consider this when voting, the Godfather is poorly directed, badly scripted, crudely acted and most importantly is, quite frankly boring and wearisome.*\n",
    "\n",
    "**Review \\#3**\n",
    "\n",
    "*Great Book... Slightly above average movie (so sad)\n",
    "The book is awesome, one of the best books ever. Sadly the movie is weak, and fails to portrait the true essence of the characters, what's so great about the book is that you're able to know and understand the background stories, therefore you identify with the characters behavior to the point where you even forget they're mobsters!! however in the movie many minor and irrelevant scenes take too much time, time that could be used to go a little deeper into the characters, and what's even worst is the total disregard to important passages of the book which didn't even make the movie, or if they did, they were over-synthesized. I don't think I'm the only one that really loved the book, but was sadly disappointed by the movie, still is a movie worth watching, but if you really want to enjoy a great story you should read the book!!*\n",
    "\n",
    "\n",
    "Sometimes, even for us it is complicated to perform this task. In this lab session, we will create an algorithm that does these predictions automatically with more than 82.0% of accuracy. The state-of-the art methods achieves on this task (about 87.0% to 90.0%). Examples of application of this task are human dialogue sentiment identification, user opinion of product reviews, chat bots language understanding and/or Twitter language understanding."
   ]
  },
  {
   "cell_type": "markdown",
   "metadata": {
    "nbpresent": {
     "id": "ec0f8430-76a1-475d-a360-8f93ab4f2732"
    }
   },
   "source": [
    "First, we need to download and import the IMDB dataset from Keras."
   ]
  },
  {
   "cell_type": "code",
   "execution_count": 1,
   "metadata": {
    "nbpresent": {
     "id": "2b07a011-1503-4935-8cb4-30013804a57c"
    }
   },
   "outputs": [
    {
     "name": "stderr",
     "output_type": "stream",
     "text": [
      "Using TensorFlow backend.\n"
     ]
    }
   ],
   "source": [
    "import keras\n",
    "from keras.datasets import imdb\n",
    "from keras.preprocessing import sequence\n",
    "from keras.utils import np_utils\n",
    "import numpy as np\n",
    "\n",
    "(x_train, y_train), (x_test, y_test) = imdb.load_data(path=\"imdb.npz\",\n",
    "                                                      num_words=None, # Number of words of the vocabulary (None=gets all words)\n",
    "                                                      skip_top=0,     # Excludes top-k frequent words\n",
    "                                                      maxlen=None,)   # Max length of sentences"
   ]
  },
  {
   "cell_type": "markdown",
   "metadata": {
    "nbpresent": {
     "id": "ef32a37b-7b4d-48b6-af65-15f6d4fc2f11"
    }
   },
   "source": [
    "The text contains only discrete information:\n",
    "\n",
    "- each unique word is mapped to an unique index (integer)\n",
    "- each sentence or document contains a sequence of words (or indexes)\n",
    "\n",
    "In the dataset loaded by Keras the preprocessing is already done: words are already tokenized and indexed. The second step is to obtain the dictionary that translates indexes (integer) to words (string)."
   ]
  },
  {
   "cell_type": "code",
   "execution_count": 162,
   "metadata": {
    "nbpresent": {
     "id": "51ce5a95-c7f7-4a4f-aac8-f63cccd10c47"
    }
   },
   "outputs": [
    {
     "name": "stdout",
     "output_type": "stream",
     "text": [
      "> Index of word \"special\" is 315\n",
      "> Index of word \"effects\" is 299\n"
     ]
    }
   ],
   "source": [
    "word_index = imdb.get_word_index(path='imdb_word_index.json') # Load word vocabulary dictionary \n",
    "print('> Index of word \\\"special\\\" is {}'.format(word_index['special']))\n",
    "print('> Index of word \\\"effects\\\" is {}'.format(word_index['effects']))"
   ]
  },
  {
   "cell_type": "markdown",
   "metadata": {
    "nbpresent": {
     "id": "1e3b1492-da1f-4c1b-82f2-97820ad210a1"
    }
   },
   "source": [
    "The reversed dictionary of *word_index* is obtained by the follow command:"
   ]
  },
  {
   "cell_type": "code",
   "execution_count": 4,
   "metadata": {
    "nbpresent": {
     "id": "177952ae-d1ac-45d1-81fa-20361b8a48cf"
    }
   },
   "outputs": [
    {
     "name": "stdout",
     "output_type": "stream",
     "text": [
      "> The word corresponding to the Index 315 is \"special\"\n",
      "> The word corresponding to the Index 299 is \"effects\"\n"
     ]
    }
   ],
   "source": [
    "index_word = dict([[v,k] for k,v in word_index.items()])\n",
    "print('> The word corresponding to the Index 315 is \\\"{}\\\"'.format(index_word[315]))\n",
    "print('> The word corresponding to the Index 299 is \\\"{}\\\"'.format(index_word[299]))"
   ]
  },
  {
   "cell_type": "markdown",
   "metadata": {
    "nbpresent": {
     "id": "12084ea3-801c-46ca-a9c8-2442457d921f"
    }
   },
   "source": [
    "The number of unique words in the vocabulary is:"
   ]
  },
  {
   "cell_type": "code",
   "execution_count": 5,
   "metadata": {
    "nbpresent": {
     "id": "8eadbdf7-06fd-4d7c-bb63-fbfd1d7d4877"
    }
   },
   "outputs": [
    {
     "name": "stdout",
     "output_type": "stream",
     "text": [
      "> Number of words in vocabulary: 88584\n"
     ]
    }
   ],
   "source": [
    "print('> Number of words in vocabulary: {}'.format(len(word_index)))"
   ]
  },
  {
   "cell_type": "markdown",
   "metadata": {
    "nbpresent": {
     "id": "5fae17c5-d856-45ea-b6c3-d01dd6dc501f"
    }
   },
   "source": [
    "## Part 1) Exploring the dataset"
   ]
  },
  {
   "cell_type": "code",
   "execution_count": 6,
   "metadata": {
    "nbpresent": {
     "id": "1c8c1351-b90b-4481-90d2-4decd3b8ad08"
    }
   },
   "outputs": [],
   "source": [
    "# Transform sequences of indexes to raw text\n",
    "# If the index is not in the vocabulary you need to continue without this index\n",
    "def indexes_to_text(indexes):\n",
    "    result = \"\"\n",
    "    for i in indexes:\n",
    "        if i not in index_word:\n",
    "            continue\n",
    "        try:\n",
    "            result = result+\" \"+str(index_word[i-3])\n",
    "        except:\n",
    "            continue\n",
    "    return result    "
   ]
  },
  {
   "cell_type": "code",
   "execution_count": 7,
   "metadata": {
    "nbpresent": {
     "id": "418f9517-920a-4a9b-b2c2-89a3ac50107b"
    }
   },
   "outputs": [
    {
     "name": "stdout",
     "output_type": "stream",
     "text": [
      "> Number of training examples (x_train): (25000,) \n",
      "\n",
      "> Number of training labeled examples (y_train): (25000,) \n",
      "\n",
      "> First training example (indexes) is: [1, 14, 22, 16, 43, 530, 973, 1622, 1385, 65, 458, 4468, 66, 3941, 4, 173, 36, 256, 5, 25, 100, 43, 838, 112, 50, 670, 22665, 9, 35, 480, 284, 5, 150, 4, 172, 112, 167, 21631, 336, 385, 39, 4, 172, 4536, 1111, 17, 546, 38, 13, 447, 4, 192, 50, 16, 6, 147, 2025, 19, 14, 22, 4, 1920, 4613, 469, 4, 22, 71, 87, 12, 16, 43, 530, 38, 76, 15, 13, 1247, 4, 22, 17, 515, 17, 12, 16, 626, 18, 19193, 5, 62, 386, 12, 8, 316, 8, 106, 5, 4, 2223, 5244, 16, 480, 66, 3785, 33, 4, 130, 12, 16, 38, 619, 5, 25, 124, 51, 36, 135, 48, 25, 1415, 33, 6, 22, 12, 215, 28, 77, 52, 5, 14, 407, 16, 82, 10311, 8, 4, 107, 117, 5952, 15, 256, 4, 31050, 7, 3766, 5, 723, 36, 71, 43, 530, 476, 26, 400, 317, 46, 7, 4, 12118, 1029, 13, 104, 88, 4, 381, 15, 297, 98, 32, 2071, 56, 26, 141, 6, 194, 7486, 18, 4, 226, 22, 21, 134, 476, 26, 480, 5, 144, 30, 5535, 18, 51, 36, 28, 224, 92, 25, 104, 4, 226, 65, 16, 38, 1334, 88, 12, 16, 283, 5, 16, 4472, 113, 103, 32, 15, 16, 5345, 19, 178, 32] \n",
      "\n",
      "> First training example (raw text) is: \" this film was just brilliant casting location scenery story direction everyone's really suited the part they played and you could just imagine being there robert redford's is an amazing actor and now the same being director norman's father came from the same scottish island as myself so i loved the fact there was a real connection with this film the witty remarks throughout the film were great it was just brilliant so much that i bought the film as soon as it was released for retail and would recommend it to everyone to watch and the fly fishing was amazing really cried at the end it was so sad and you know what they say if you cry at a film it must have been good and this definitely was also congratulations to the two little boy's that played the part's of norman and paul they were just brilliant children are often left out of the praising list i think because the stars that play them all grown up are such a big profile for the whole film but these children are amazing and should be praised for what they have done don't you think the whole story was so lovely because it was true and was someone's life after all that was shared with us all\" \n",
      "\n",
      "> Label of first example is: \"1\" (positive = \"1\" and negative = \"0\")\n",
      "\n"
     ]
    }
   ],
   "source": [
    "print('> Number of training examples (x_train): {} \\n'.format(x_train.shape))\n",
    "print('> Number of training labeled examples (y_train): {} \\n'.format(y_train.shape))\n",
    "print('> First training example (indexes) is: {} \\n'.format(x_train[0]))\n",
    "print('> First training example (raw text) is: \\\"{}\\\" \\n'.format(indexes_to_text(x_train[0])))\n",
    "print('> Label of first example is: \\\"{}\\\" (positive = \\\"1\\\" and negative = \\\"0\\\")\\n'.format(y_train[0]))"
   ]
  },
  {
   "cell_type": "markdown",
   "metadata": {},
   "source": [
    "**Question 1.1)** Find the first document review (training example) that appears the words *soundtrack* and *effects*."
   ]
  },
  {
   "cell_type": "code",
   "execution_count": 8,
   "metadata": {},
   "outputs": [
    {
     "name": "stdout",
     "output_type": "stream",
     "text": [
      "> First training example (raw text) is: \" but i doubt many were running to see this movie or some came running out of the cinema okay that's a bit harsh br br the film starts in an unintentionally comical way frankie boy comes back to his hometown after many years this already smells of clichés and the whole town is shaken by his arrival he is talked about everyone wants to talk to him and every woman he meets flirts with him like there's no tomorrow even his niece hints that she would gladly have dropped her date to chat with frankie boy a little longer even his pretty niece wants a piece of him sounds like one of those laughable mike hammer episodes where every single female wants stacey keach and like stacey keach frankie boy is anything but a good looking woman's wet dream in real life someone like sinatra without the fame wouldn't get within 100 m of someone as beautiful as maclaine but in this hollywood movie it's the other way around maclaine is absolutely nuts about frankie boy but he couldn't care less sinatra plays his cool shtick much too often in his movies and it is rarely credible dean martin is kind of miscast he isn't miscast as a card player but rather because of the accent which simply doesn't suit him maclaine is charming as ever but she plays a caricature and this reliance on caricatures is one of the basic problems with the film the main characters are all some sort of stereotypes out of bad or seen it all before movies and cheap novels frankie is the cool cat who comes back to town to get all the women and he couldn't care less about his writing which predictably eventually garners recognition martin is a sleazy but friendly card player maclaine is the dumb but very likable bimbo frankie's blond love interest is a snotty literary expert frankie's brother is the successful guy who married into his wife's business and has a lousy marriage and so on clichés br br the story contains a couple of coincidences which are a little too far fetched for my taste frankie just happens to bump into his niece in a locale his niece just happens to be meters away from her daddy when the latter kisses his secretary for the first time and then there is the awful stupid ending br br in it a drunk guy bent on killing frankie boy somehow manages to find him in a carnival of all places the place is utterly crowded with the typical noise and chaos plus it's happening in the evening and yet the guy somehow finds frankie in spite of being drunk as a doorknob and shoots at him but guess who he kills maclaine she jumps in front of the bullet to save frankie a cliché which comic book writers might cringe at this utterly pathetic over dramatic and annoying ending certainly cannot please any even semi intelligent viewer and this happens on the same day that maclaine and sinatra got married the writer of this nonsense seems to have read crappy dime novels his whole life how else is the writing of this movie to be explained there is even a card game in which a brawl ensues with frankie martin vs some cliché caricatures out of the writer's vivid imagination it was like a damn western suddenly another dumb thing is the way sinatra was crazy about the boring snotty nosed bimbo and pretty much ignored maclaine as the movie progresses we find out that sinatra finds maclaine to be too dumb for him just as the blond bimbo finds sinatra to be too low class for her there is a certain snobbism and disdain to be detected in the script regarding maclaine maclaine is treated as worthless by everyone while the blond bimbo is treated as a princess and an intellectual the ironic truth is that the latter's character comes off as rather dumb and not at all as intellectual her behaviour comments and opinions are mostly clichéd silly confused pretentious and primitive at least maclaine's character knows that she maclaine is dumb there is another irony that i didn't fail to notice sinatra had trouble finding an ending for his latest story much like the writer of this movie and that's why he came up with the corny crappy finale br br the film basically has a solid cast and the photography is nice but the script though sometimes okay relies to heavily on silly nonsense instead of on reality based characters and events br br if you're interested in reading my biographies of shirley maclaine and other hollywood intellectuals contact me by e mail\" \n",
      "\n"
     ]
    }
   ],
   "source": [
    "index_1 = word_index['soundtrack'] #index of 'soundtrack'\n",
    "index_2 = word_index['effects'] #index of 'effects'\n",
    "\n",
    "#find in x_train where index1 and index2 exits\n",
    "for i in x_train:\n",
    "     if index_1 in i and index_2 in i:\n",
    "         \n",
    "        print('> First training example (raw text) is: \\\"{}\\\" \\n'.format(indexes_to_text(i)))\n",
    "        break"
   ]
  },
  {
   "cell_type": "markdown",
   "metadata": {},
   "source": [
    "**Question 1.2)** Find the minimum, mean and maximum number of words per review."
   ]
  },
  {
   "cell_type": "code",
   "execution_count": 9,
   "metadata": {},
   "outputs": [
    {
     "name": "stdout",
     "output_type": "stream",
     "text": [
      ">  Number of words per review:  11  min  238.71364  mean  2494  max \n",
      "> Number of classes: 2\n",
      "\n"
     ]
    }
   ],
   "source": [
    "num_words = []\n",
    "#count number of words per review\n",
    "for review in x_train:\n",
    "     num_words.append(len(review))\n",
    "(minimum,mean,maximum) = (np.min(num_words),np.mean(num_words),np.max(num_words))\n",
    "print(\">  Number of words per review: \",minimum,\" min \",mean,\" mean \",maximum,\" max \")\n",
    "    \n",
    "# Shows the total number of labels\n",
    "num_classes = np.max(y_train)+1\n",
    "print('> Number of classes: {}\\n'.format(num_classes))\n"
   ]
  },
  {
   "cell_type": "markdown",
   "metadata": {},
   "source": [
    "**Question 1.3)** What is the size of the training and test datasets before and after [padding](http://dmlc.ml/rstats/2017/10/11/rnn-bucket-mxnet-R.html)? Print the first training example with and without padding. Why do we use padding? What happens if the sequence length is shorter or longer than *maxlen*? Write your response in a new text cell below."
   ]
  },
  {
   "cell_type": "code",
   "execution_count": 6,
   "metadata": {},
   "outputs": [
    {
     "ename": "NameError",
     "evalue": "name 'word_index' is not defined",
     "output_type": "error",
     "traceback": [
      "\u001b[0;31m---------------------------------------------------------------------------\u001b[0m",
      "\u001b[0;31mNameError\u001b[0m                                 Traceback (most recent call last)",
      "\u001b[0;32m<ipython-input-6-7f2b056b1c93>\u001b[0m in \u001b[0;36m<module>\u001b[0;34m\u001b[0m\n\u001b[1;32m      3\u001b[0m \u001b[0;34m\u001b[0m\u001b[0m\n\u001b[1;32m      4\u001b[0m \u001b[0;31m# We use all words of vocabulary\u001b[0m\u001b[0;34m\u001b[0m\u001b[0;34m\u001b[0m\u001b[0m\n\u001b[0;32m----> 5\u001b[0;31m \u001b[0mmax_words\u001b[0m \u001b[0;34m=\u001b[0m \u001b[0mlen\u001b[0m\u001b[0;34m(\u001b[0m\u001b[0mword_index\u001b[0m\u001b[0;34m)\u001b[0m\u001b[0;34m\u001b[0m\u001b[0m\n\u001b[0m\u001b[1;32m      6\u001b[0m \u001b[0mprint\u001b[0m\u001b[0;34m(\u001b[0m\u001b[0;34m\"Size before padding-----\"\u001b[0m\u001b[0;34m)\u001b[0m\u001b[0;34m\u001b[0m\u001b[0m\n\u001b[1;32m      7\u001b[0m \u001b[0mprint\u001b[0m\u001b[0;34m(\u001b[0m\u001b[0;34m'> Number of training examples (x_train): {} \\n'\u001b[0m\u001b[0;34m.\u001b[0m\u001b[0mformat\u001b[0m\u001b[0;34m(\u001b[0m\u001b[0mx_train\u001b[0m\u001b[0;34m.\u001b[0m\u001b[0mshape\u001b[0m\u001b[0;34m)\u001b[0m\u001b[0;34m)\u001b[0m\u001b[0;34m\u001b[0m\u001b[0m\n",
      "\u001b[0;31mNameError\u001b[0m: name 'word_index' is not defined"
     ]
    }
   ],
   "source": [
    "# We select only sequences that contain less or equal than maxlen words\n",
    "maxlen = 500\n",
    "\n",
    "# We use all words of vocabulary\n",
    "max_words = len(word_index)\n",
    "print(\"Size before padding-----\")\n",
    "print('> Number of training examples (x_train): {} \\n'.format(x_train.shape))\n",
    "print('> Number of training examples (x_test): {} \\n'.format(x_test.shape))\n",
    "\n",
    "print('> First training example (without padding) is: \\\"{}\\\" \\n'.format(indexes_to_text(x_train[0])))\n",
    "\n",
    "print('Vectorizing sequence data...\\n')\n",
    "# Adding padding in sequences with less than max_words\n",
    "X_train = sequence.pad_sequences(x_train, maxlen=maxlen)\n",
    "X_test = sequence.pad_sequences(x_test, maxlen=maxlen)\n",
    "\n",
    "print(\"Size after padding-----\")\n",
    "print('> Number of training examples (x_train): {} \\n'.format(X_train.shape))\n",
    "print('> Number of training examples (x_test): {} \\n'.format(X_test.shape))\n",
    "print('> First training example (with padding) is: \\\"{}\\\" \\n'.format(indexes_to_text(X_train[0])))\n",
    "### TO DO ###"
   ]
  },
  {
   "cell_type": "markdown",
   "metadata": {},
   "source": [
    "- What is the size of the training and test datasets before and after padding? Print the first training example with and without padding. Why do we use padding? What happens if the sequence length is shorter or longer than maxlen? Write your response in a new text cell below.\n",
    "\n",
    "Padding is made to uniform the dataset, even whether some cases we loss information. With padding, if the sequence length is shorter than 'maxlen', it will be fill with zeros and in the other case, it will cut the sequence.\n",
    "\n"
   ]
  },
  {
   "cell_type": "code",
   "execution_count": 11,
   "metadata": {},
   "outputs": [
    {
     "name": "stdout",
     "output_type": "stream",
     "text": [
      ">  Number of words per review:  500  min  500.0  mean  500  max \n",
      "Same number of words\n"
     ]
    }
   ],
   "source": [
    "num_words_p = []\n",
    "#Now all reviews have the same number of words\n",
    "for review in X_train:\n",
    "     num_words_p.append(len(review))\n",
    "(minimum_p,mean_p,maximum_p) = (np.min(num_words_p),np.mean(num_words_p),np.max(num_words_p))\n",
    "print(\">  Number of words per review: \",minimum_p,\" min \",mean_p,\" mean \",maximum_p,\" max \")\n",
    "print(\"Same number of words\")"
   ]
  },
  {
   "cell_type": "markdown",
   "metadata": {},
   "source": [
    "## Part 2) Many-to-one sequence logistic classifier\n",
    "\n",
    "The image above shows a simple RNN model that for each time $1 \\leq t \\leq t_{max}$ gives the output vector $o_t$ based on inputs $s_{t-1}$ and $x_t$.\n",
    "\n",
    "In a many-to-one sequence logistic classifier, the final output is $o_{t_{max}}$. In the case of predicting labels for reviews the last output vector is used in the logistic regression. We call in lab session the vector $s_{t_{max}}$ as context vector.\n",
    "\n",
    "We could summarize the RNN model as a function:\n",
    "\n",
    "$$ f_{RNN}(U, V, W; s_0, x_1, x_2, ... x_{t_{max}}) = o_{t_{max}}  = P(y=1 | s_0, x_1, x_2, ..., x_{t_{max}})$$\n",
    "\n",
    "The RNN model is optimized following the binary cross-entropy criteria. For the example $i$:\n",
    "\n",
    "$$L_{i}= -[y_i log  (o_{t_{max}}) + (1-y_i) log (1-o_{t_{max}})]$$\n",
    "\n",
    "The optimization algorithm consists in finding a good solution the equation above on the set of training samples:\n",
    "\n",
    "$$ arg_{\\theta} min \\frac{1}{N}\\sum_{i}^{N}L_{i}$$\n",
    "\n",
    "![RNN model](http://www.wildml.com/wp-content/uploads/2015/09/rnn.jpg)"
   ]
  },
  {
   "cell_type": "code",
   "execution_count": null,
   "metadata": {},
   "outputs": [],
   "source": []
  },
  {
   "cell_type": "markdown",
   "metadata": {},
   "source": [
    "Here, we also introduce the notion of [embedding](http://dmlc.ml/rstats/2017/10/11/rnn-bucket-mxnet-R.html). Embedding turns positive integers (indexes) into dense vectors of fixed size. eg. [[4], [20]] -> [[0.25, 0.1], [0.6, -0.2]]. In this last example, we transform the sequence of indexes 4 and 20 into real vectors respectively (0.25, 0.1) and (0.6, -0.2). The idea of embedding is to project the indices into another space that is more informative. For instance, words with similar meaning will be close in this new space.\n",
    "\n",
    "In Keras, we can add an [embedding layer](https://machinelearningmastery.com/use-word-embedding-layers-deep-learning-keras/) in a RNN. In that case, all word vectors (for instance [0.25, 0.1] and [0.6, -0.2]) are now parameters of the RNN and they are optimized as parameters."
   ]
  },
  {
   "cell_type": "markdown",
   "metadata": {},
   "source": [
    "## 2.1) Simple RNN model with Embedding Layer"
   ]
  },
  {
   "cell_type": "markdown",
   "metadata": {},
   "source": [
    "Here, we give you an example of simple RNN declaration with an embedding layer."
   ]
  },
  {
   "cell_type": "code",
   "execution_count": 45,
   "metadata": {},
   "outputs": [
    {
     "name": "stdout",
     "output_type": "stream",
     "text": [
      "Build model...\n",
      "_________________________________________________________________\n",
      "Layer (type)                 Output Shape              Param #   \n",
      "=================================================================\n",
      "embedding_10 (Embedding)     (None, 500, 300)          26575200  \n",
      "_________________________________________________________________\n",
      "simple_rnn_3 (SimpleRNN)     (None, 50)                17550     \n",
      "_________________________________________________________________\n",
      "dense_7 (Dense)              (None, 1)                 51        \n",
      "_________________________________________________________________\n",
      "activation_6 (Activation)    (None, 1)                 0         \n",
      "=================================================================\n",
      "Total params: 26,592,801\n",
      "Trainable params: 26,592,801\n",
      "Non-trainable params: 0\n",
      "_________________________________________________________________\n",
      "None\n"
     ]
    }
   ],
   "source": [
    "from keras.layers import SimpleRNN, Dense, Embedding, Activation\n",
    "from keras.models import Sequential\n",
    "\n",
    "embedding_dims = 300\n",
    "rnn_units = 50\n",
    "\n",
    "print('Build model...')\n",
    "model = Sequential()\n",
    "\n",
    "# max_words is the vocabulary size\n",
    "# embeddings_dim is the dimension of each word embeddings vector\n",
    "# maxlen is the maximum length of each sequence\n",
    "\n",
    "# Embedding layer definition\n",
    "model.add(Embedding(max_words, embedding_dims, input_length=maxlen))\n",
    "# Recurrent layer definition\n",
    "model.add(SimpleRNN(rnn_units, activation='tanh', return_sequences=False)) # Output of this layer is the context vector\n",
    "# Linear layer definition\n",
    "model.add(Dense(num_classes-1))\n",
    "# Non-linear function bounded (0 to 1)\n",
    "model.add(Activation('sigmoid'))\n",
    "\n",
    "model.compile(loss='binary_crossentropy', optimizer='adam', metrics=['acc'])\n",
    "# Show the model architecture\n",
    "print (model.summary())"
   ]
  },
  {
   "cell_type": "code",
   "execution_count": 46,
   "metadata": {},
   "outputs": [
    {
     "name": "stdout",
     "output_type": "stream",
     "text": [
      "Train on 25000 samples, validate on 25000 samples\n",
      "Epoch 1/5\n",
      " - 64s - loss: 0.5042 - acc: 0.7443 - val_loss: 0.3701 - val_acc: 0.8428\n",
      "Epoch 2/5\n",
      " - 64s - loss: 0.2376 - acc: 0.9062 - val_loss: 0.4371 - val_acc: 0.8361\n",
      "Epoch 3/5\n",
      " - 64s - loss: 0.1216 - acc: 0.9566 - val_loss: 0.4838 - val_acc: 0.8215\n",
      "Epoch 4/5\n",
      " - 64s - loss: 0.0254 - acc: 0.9937 - val_loss: 0.5974 - val_acc: 0.7960\n",
      "Epoch 5/5\n",
      " - 64s - loss: 0.0103 - acc: 0.9982 - val_loss: 0.6507 - val_acc: 0.8163\n",
      "25000/25000 [==============================] - 21s 837us/step\n",
      "Test loss: 0.6507\n",
      "Test Accuracy: 0.8163\n"
     ]
    }
   ],
   "source": [
    "# Train model\n",
    "batch_size=128\n",
    "num_epochs=5\n",
    "history = model.fit(X_train, y_train, batch_size=batch_size, epochs=num_epochs, validation_data=(X_test, y_test), verbose=2)\n",
    "\n",
    "# Evaluate model\n",
    "test_loss, acc = model.evaluate(X_test, y_test, batch_size=batch_size)\n",
    "    \n",
    "print('Test loss: %1.4f' % test_loss)\n",
    "print('Test Accuracy: %1.4f' % acc)"
   ]
  },
  {
   "cell_type": "markdown",
   "metadata": {},
   "source": [
    "## 2.2) LSTM/BiLSTM model with Embedding Layer\n",
    "\n",
    "\n",
    "The LSTM model is more complex than the RNN model. It is pictured in the figure above:\n",
    "\n",
    "![LSTM model](http://colah.github.io/posts/2015-08-Understanding-LSTMs/img/LSTM3-chain.png)\n",
    "\n"
   ]
  },
  {
   "cell_type": "markdown",
   "metadata": {},
   "source": [
    "**Question 2.1)** What are the advantages in using LSTM instead of a simple RNN?\n",
    "The main advantage is that allows the net to save old information keeping in \"memory\" the context to predict the correct word, reducing the effects of vanishing gradient"
   ]
  },
  {
   "cell_type": "markdown",
   "metadata": {},
   "source": [
    "**Question 2.2)** What is a bidirectional recurrent model? What kind of operation is performed in context vectors of each direction?\n",
    "That allows keep information about the past and future to predict the word in a given context vector. In other words, it means backward and forward in time to find the correct estimation  "
   ]
  },
  {
   "cell_type": "markdown",
   "metadata": {},
   "source": [
    "**Question 2.3)** Write your own LSTM and/or Bidirectional LSTM model and compare the results with the simple RNN model (use *CuDNNLSTM* layer instead of *LSTM* for faster results). Plot the performance rate of your own model as a function of epochs and try to avoid the problem of overfitting.\n"
   ]
  },
  {
   "cell_type": "code",
   "execution_count": 5,
   "metadata": {},
   "outputs": [
    {
     "name": "stdout",
     "output_type": "stream",
     "text": [
      "Build model...\n"
     ]
    },
    {
     "ename": "NameError",
     "evalue": "name 'maxlen' is not defined",
     "output_type": "error",
     "traceback": [
      "\u001b[0;31m---------------------------------------------------------------------------\u001b[0m",
      "\u001b[0;31mNameError\u001b[0m                                 Traceback (most recent call last)",
      "\u001b[0;32m<ipython-input-5-9999ae29d7c6>\u001b[0m in \u001b[0;36m<module>\u001b[0;34m\u001b[0m\n\u001b[1;32m     13\u001b[0m \u001b[0;34m\u001b[0m\u001b[0m\n\u001b[1;32m     14\u001b[0m \u001b[0;31m# Embedding layer definition\u001b[0m\u001b[0;34m\u001b[0m\u001b[0;34m\u001b[0m\u001b[0m\n\u001b[0;32m---> 15\u001b[0;31m \u001b[0mmodel_uni\u001b[0m\u001b[0;34m.\u001b[0m\u001b[0madd\u001b[0m\u001b[0;34m(\u001b[0m\u001b[0mEmbedding\u001b[0m\u001b[0;34m(\u001b[0m\u001b[0;36m500\u001b[0m\u001b[0;34m,\u001b[0m \u001b[0membedding_dims\u001b[0m\u001b[0;34m,\u001b[0m \u001b[0minput_length\u001b[0m\u001b[0;34m=\u001b[0m\u001b[0mmaxlen\u001b[0m\u001b[0;34m)\u001b[0m\u001b[0;34m)\u001b[0m\u001b[0;34m\u001b[0m\u001b[0m\n\u001b[0m\u001b[1;32m     16\u001b[0m \u001b[0;31m# Recurrent layer definition\u001b[0m\u001b[0;34m\u001b[0m\u001b[0;34m\u001b[0m\u001b[0m\n\u001b[1;32m     17\u001b[0m \u001b[0mmodel_uni\u001b[0m\u001b[0;34m.\u001b[0m\u001b[0madd\u001b[0m\u001b[0;34m(\u001b[0m\u001b[0mCuDNNLSTM\u001b[0m\u001b[0;34m(\u001b[0m\u001b[0mrnn_units\u001b[0m\u001b[0;34m)\u001b[0m\u001b[0;34m)\u001b[0m \u001b[0;31m# Output of this layer is the context vector\u001b[0m\u001b[0;34m\u001b[0m\u001b[0m\n",
      "\u001b[0;31mNameError\u001b[0m: name 'maxlen' is not defined"
     ]
    }
   ],
   "source": [
    "from keras.layers import CuDNNLSTM, Dense, Embedding, Activation,BatchNormalization,Dropout\n",
    "from keras.models import Sequential\n",
    "\n",
    "embedding_dims = 300\n",
    "rnn_units = 50\n",
    "\n",
    "print('Build model...')\n",
    "model_uni = Sequential()\n",
    "\n",
    "# max_words is the vocabulary size\n",
    "# embeddings_dim is the dimension of each word embeddings vector\n",
    "# maxlen is the maximum length of each sequence\n",
    "\n",
    "# Embedding layer definition\n",
    "model_uni.add(Embedding(max_words, embedding_dims, input_length=maxlen))\n",
    "# Recurrent layer definition\n",
    "model_uni.add(CuDNNLSTM(rnn_units)) # Output of this layer is the context vector\n",
    "# Linear layer definition\n",
    "model_uni.add(Dense(num_classes-1))\n",
    "# Non-linear function bounded (0 to 1)\n",
    "model_uni.add(Activation('sigmoid'))\n",
    "\n",
    "model_uni.compile(loss='binary_crossentropy', optimizer='adam', metrics=['acc'])\n",
    "# Show the model architecture\n",
    "print (model_uni.summary())"
   ]
  },
  {
   "cell_type": "code",
   "execution_count": 49,
   "metadata": {},
   "outputs": [],
   "source": [
    "import matplotlib.pyplot as plt\n",
    "\n",
    "def evaluate_model(model,history,x_test,z_test,batch_size):\n",
    "    #Plot evolution of accuracy \n",
    "    print(history.history.keys()) \n",
    "    plt.figure()\n",
    "    plt.plot(history.history['acc']) #accuracy en training\n",
    "    plt.plot(history.history['val_acc']) #accuracy en validation\n",
    "    plt.title('model acc')\n",
    "    plt.ylabel('acc')  \n",
    "    plt.xlabel('epochs')\n",
    "    plt.legend(['train','val'], loc='upper left')\n",
    "    plt.show()\n",
    "    \n",
    "    score = model.evaluate(x_test, y_test, batch_size=batch_size)\n",
    "    print('Test loss:', score[0])\n",
    "    print('Test accuracy:', score[1])\n",
    "\n",
    "    "
   ]
  },
  {
   "cell_type": "code",
   "execution_count": 50,
   "metadata": {},
   "outputs": [
    {
     "name": "stdout",
     "output_type": "stream",
     "text": [
      "Train on 25000 samples, validate on 25000 samples\n",
      "Epoch 1/5\n",
      " - 13s - loss: 0.4405 - acc: 0.7950 - val_loss: 0.4113 - val_acc: 0.8157\n",
      "Epoch 2/5\n",
      " - 12s - loss: 0.2161 - acc: 0.9201 - val_loss: 0.3339 - val_acc: 0.8683\n",
      "Epoch 3/5\n",
      " - 12s - loss: 0.0989 - acc: 0.9663 - val_loss: 0.3792 - val_acc: 0.8604\n",
      "Epoch 4/5\n",
      " - 12s - loss: 0.0484 - acc: 0.9855 - val_loss: 0.4927 - val_acc: 0.8375\n",
      "Epoch 5/5\n",
      " - 12s - loss: 0.0440 - acc: 0.9865 - val_loss: 0.5128 - val_acc: 0.8415\n",
      "25000/25000 [==============================] - 3s 113us/step\n",
      "Test loss: 0.5128\n",
      "Test Accuracy: 0.8415\n"
     ]
    }
   ],
   "source": [
    "history_uni = model_uni.fit(X_train, y_train, batch_size=batch_size, epochs=num_epochs, validation_data=(X_test, y_test), verbose=2)\n",
    "\n",
    "# Evaluate model\n",
    "test_loss, acc = model_uni.evaluate(X_test, y_test, batch_size=batch_size)\n",
    "\n",
    "    \n",
    "print('Test loss: %1.4f' % test_loss)\n",
    "print('Test Accuracy: %1.4f' % acc)"
   ]
  },
  {
   "cell_type": "code",
   "execution_count": 47,
   "metadata": {},
   "outputs": [
    {
     "name": "stdout",
     "output_type": "stream",
     "text": [
      "dict_keys(['val_loss', 'val_acc', 'loss', 'acc'])\n"
     ]
    },
    {
     "data": {
      "image/png": "[encoded data removed]",
      "text/plain": [
       "<matplotlib.figure.Figure at 0x7f3480f0b198>"
      ]
     },
     "metadata": {
      "needs_background": "light"
     },
     "output_type": "display_data"
    },
    {
     "name": "stdout",
     "output_type": "stream",
     "text": [
      "25000/25000 [==============================] - 21s 835us/step\n",
      "Test loss: 0.6506831830215454\n",
      "Test accuracy: 0.816319999961853\n"
     ]
    }
   ],
   "source": [
    "\n",
    "evaluate_model(model,history,X_test,y_test,batch_size)\n",
    "#evaluate_model(model_uni,history_uni,X_test,y_test)"
   ]
  },
  {
   "cell_type": "code",
   "execution_count": 51,
   "metadata": {},
   "outputs": [
    {
     "name": "stdout",
     "output_type": "stream",
     "text": [
      "dict_keys(['val_loss', 'val_acc', 'loss', 'acc'])\n"
     ]
    },
    {
     "data": {
      "image/png": "[encoded data removed]",
      "text/plain": [
       "<matplotlib.figure.Figure at 0x7f3480739e80>"
      ]
     },
     "metadata": {
      "needs_background": "light"
     },
     "output_type": "display_data"
    },
    {
     "name": "stdout",
     "output_type": "stream",
     "text": [
      "25000/25000 [==============================] - 3s 113us/step\n",
      "Test loss: 0.512843935470581\n",
      "Test accuracy: 0.8414799999618531\n"
     ]
    }
   ],
   "source": [
    "evaluate_model(model_uni,history_uni,X_test,y_test,batch_size)"
   ]
  },
  {
   "cell_type": "markdown",
   "metadata": {},
   "source": [
    "## Part 3) Analysis of results and data visualization \n",
    "### 3.1) t-SNE 2D Visualization of context vectors (test data)"
   ]
  },
  {
   "cell_type": "markdown",
   "metadata": {},
   "source": [
    "t-distributed Stochastic Neighbor Embedding (t-SNE)[1] is a non-supervised technique of visualization of high-dimensional data based on KL divergence probabilities approximation to construct a [manifold](http://scikit-learn.org/stable/modules/generated/sklearn.manifold.TSNE.html) (see [1] Maaten, Laurens van der, and Geoffrey Hinton. \"Visualizing data using t-SNE.\" Journal of machine learning research 9, no. Nov (2008): 2579-2605).\n",
    "\n",
    "In this example, we will use this technique to visualize context vectors of each document (review) in a 2D space. The original euclidian distance between high dimensional context vectors is mostly preserved. Therefore, we can have an idea of the projection of context vectors in a 2D space. \n",
    "\n",
    "We will plot this representation using a [scatter plot](https://matplotlib.org/api/_as_gen/matplotlib.pyplot.scatter.html) (please use a sub-sampling of test data for visualization, *n_subsamples* parameter defined below). The colors of the points will represent the real label (positive or negative review) of the predicted context vector."
   ]
  },
  {
   "cell_type": "code",
   "execution_count": 2,
   "metadata": {},
   "outputs": [],
   "source": [
    "from sklearn.manifold import TSNE\n",
    "import math\n",
    "from keras import backend as K\n",
    "%matplotlib inline\n",
    "import matplotlib.pyplot as plt\n",
    "\n",
    "# Function that takes the output of a specific layer of the model\n",
    "def get_activations(model, id_layer, X_batch):\n",
    "    get_activations = K.function([model.layers[0].input, K.learning_phase()], [model.layers[id_layer].output])\n",
    "    activations = get_activations([X_batch,0])\n",
    "    return activations\n",
    "\n",
    "#  Function that takes the output of a rnn layer of the model (use batch)\n",
    "def get_context_vectors(model, X, id_rnn_layer = 1):\n",
    "    batch_size_test = 1024\n",
    "    h_context = get_activations(model, id_rnn_layer, X[0,:].reshape(1,-1))[0]\n",
    "    divs = math.floor(X.shape[0]/batch_size_test)\n",
    "    h_ = np.zeros((X.shape[0], rnn_units))\n",
    "    for i in range(int(divs)):\n",
    "        h_context = get_activations(model, id_rnn_layer, X_test[i*batch_size_test:(i+1)*batch_size_test,:].reshape(batch_size_test,-1))[0]\n",
    "        h_[i*batch_size_test:(i+1)*batch_size_test,:] = h_context.reshape(-1, rnn_units)\n",
    "    if X.shape[0] > divs*batch_size_test:\n",
    "        first_id = int(divs*batch_size_test)\n",
    "        h_context = get_activations(model,  id_rnn_layer, X[first_id :,:])[0]\n",
    "        h_[first_id :,:] = h_context.reshape(-1, rnn_units)\n",
    "    h_ = np.asarray(h_).reshape(-1, rnn_units)\n",
    "    return h_"
   ]
  },
  {
   "cell_type": "markdown",
   "metadata": {},
   "source": [
    "**Question 3.1)** Get context vectors (for training and test data) and complete the tsne transformation of these vectors and then plot using scatter function of matplotlib with a colorbar (Hint: use *get_context_vectors* function and specify correctly the id of the layer). Explain the obtained results in a new text cell below."
   ]
  },
  {
   "cell_type": "code",
   "execution_count": 3,
   "metadata": {},
   "outputs": [
    {
     "ename": "NameError",
     "evalue": "name 'model_uni' is not defined",
     "output_type": "error",
     "traceback": [
      "\u001b[0;31m---------------------------------------------------------------------------\u001b[0m",
      "\u001b[0;31mNameError\u001b[0m                                 Traceback (most recent call last)",
      "\u001b[0;32m<ipython-input-3-79bf13abf8e9>\u001b[0m in \u001b[0;36m<module>\u001b[0;34m\u001b[0m\n\u001b[1;32m      3\u001b[0m \u001b[0;34m\u001b[0m\u001b[0m\n\u001b[1;32m      4\u001b[0m \u001b[0;31m# Training data\u001b[0m\u001b[0;34m\u001b[0m\u001b[0;34m\u001b[0m\u001b[0m\n\u001b[0;32m----> 5\u001b[0;31m \u001b[0mx_context_train\u001b[0m \u001b[0;34m=\u001b[0m \u001b[0mget_context_vectors\u001b[0m\u001b[0;34m(\u001b[0m\u001b[0mmodel_uni\u001b[0m\u001b[0;34m,\u001b[0m\u001b[0mX_train\u001b[0m\u001b[0;34m[\u001b[0m\u001b[0;34m:\u001b[0m\u001b[0mn_subsamples\u001b[0m\u001b[0;34m]\u001b[0m\u001b[0;34m,\u001b[0m\u001b[0;36m1\u001b[0m\u001b[0;34m)\u001b[0m\u001b[0;34m\u001b[0m\u001b[0m\n\u001b[0m\u001b[1;32m      6\u001b[0m \u001b[0mx_context_test\u001b[0m \u001b[0;34m=\u001b[0m \u001b[0mget_context_vectors\u001b[0m\u001b[0;34m(\u001b[0m\u001b[0mmodel_uni\u001b[0m\u001b[0;34m,\u001b[0m\u001b[0mX_test\u001b[0m\u001b[0;34m[\u001b[0m\u001b[0;34m:\u001b[0m\u001b[0mn_subsamples\u001b[0m\u001b[0;34m]\u001b[0m\u001b[0;34m,\u001b[0m\u001b[0;36m1\u001b[0m\u001b[0;34m)\u001b[0m\u001b[0;34m\u001b[0m\u001b[0m\n\u001b[1;32m      7\u001b[0m \u001b[0;34m\u001b[0m\u001b[0m\n",
      "\u001b[0;31mNameError\u001b[0m: name 'model_uni' is not defined"
     ]
    }
   ],
   "source": [
    "# Only plot a sub-sampling of the dataset\n",
    "n_subsamples = 1000\n",
    "\n",
    "# Training data\n",
    "x_context_train = get_context_vectors(model_uni,X_train[:n_subsamples],1)\n",
    "x_context_test = get_context_vectors(model_uni,X_test[:n_subsamples],1)\n",
    "\n",
    "#TSNE\n",
    "x_context_train = TSNE(n_components=2).fit_transform(x_context_train)\n",
    "x_context_test = TSNE(n_components=2).fit_transform(x_context_test)\n",
    "\n"
   ]
  },
  {
   "cell_type": "code",
   "execution_count": 57,
   "metadata": {},
   "outputs": [
    {
     "data": {
      "image/png": "[encoded data removed]",
      "text/plain": [
       "<matplotlib.figure.Figure at 0x7f347ff047f0>"
      ]
     },
     "metadata": {
      "needs_background": "light"
     },
     "output_type": "display_data"
    }
   ],
   "source": [
    "#scatter\n",
    "plt.scatter(x_context_train[:,0],x_context_train[:,1], c = y_train[0:n_subsamples], alpha = 0.7) \n",
    "plt.colorbar()\n",
    "plt.show()"
   ]
  },
  {
   "cell_type": "code",
   "execution_count": 60,
   "metadata": {},
   "outputs": [
    {
     "data": {
      "image/png": "[encoded data removed]",
      "text/plain": [
       "<matplotlib.figure.Figure at 0x7f34a44b3438>"
      ]
     },
     "metadata": {
      "needs_background": "light"
     },
     "output_type": "display_data"
    }
   ],
   "source": [
    "plt.scatter(x_context_test[:,0],x_context_test[:,1], c = y_test[0:n_subsamples], alpha = 0.7) \n",
    "plt.colorbar()\n",
    "plt.show()"
   ]
  },
  {
   "cell_type": "code",
   "execution_count": null,
   "metadata": {},
   "outputs": [],
   "source": [
    "from sklearn.manifold import TSNE\n",
    "import math\n",
    "from keras import backend as K\n",
    "%matplotlib inline\n",
    "import matplotlib.pyplot as plt\n",
    "\n",
    "# Function that takes the output of a specific layer of the model\n",
    "def get_activations(model, id_layer, X_batch):\n",
    "    get_activations = K.function([model.layers[0].input, K.learning_phase()], [model.layers[id_layer].output])\n",
    "    activations = get_activations([X_batch,0])\n",
    "    return activations\n",
    "\n",
    "#  Function that takes the output of a rnn layer of the model (use batch)\n",
    "def get_context_vectors(model, X, id_rnn_layer = 1):\n",
    "    batch_size_test = 1024\n",
    "    h_context = get_activations(model, id_rnn_layer, X[0,:].reshape(1,-1))[0]\n",
    "    divs = math.floor(X.shape[0]/batch_size_test)\n",
    "    h_ = np.zeros((X.shape[0], rnn_units))\n",
    "    for i in range(int(divs)):\n",
    "        h_context = get_activations(model, id_rnn_layer, X_test[i*batch_size_test:(i+1)*batch_size_test,:].reshape(batch_size_test,-1))[0]\n",
    "        h_[i*batch_size_test:(i+1)*batch_size_test,:] = h_context.reshape(-1, rnn_units)\n",
    "    if X.shape[0] > divs*batch_size_test:\n",
    "        first_id = int(divs*batch_size_test)\n",
    "        h_context = get_activations(model,  id_rnn_layer, X[first_id :,:])[0]\n",
    "        h_[first_id :,:] = h_context.reshape(-1, rnn_units)\n",
    "    h_ = np.asarray(h_).reshape(-1, rnn_units)\n",
    "    return h_"
   ]
  },
  {
   "cell_type": "markdown",
   "metadata": {},
   "source": [
    "### 3.2) Show output probabilities (sigmoid output) for each word of a random review on test data\n",
    "\n",
    "The objective of this subsection is getting predictions of each word added in the sequence. This type of analysis increases the interpretability of the RNN decision, to identify when the model changes the decision for instance.\n",
    "\n",
    "In the next cell, we:\n",
    "- Get a random review on test data with less than 25 words (count the number of non-zeros entries because padding is indexed by 0 element)\n",
    "- Iterate until find first random review with less than 25 words\n",
    "- Converts the numpy sample in a list of integers without padding\n",
    "- Show the raw text of the review (use function *indexes_to_text*)"
   ]
  },
  {
   "cell_type": "code",
   "execution_count": 140,
   "metadata": {},
   "outputs": [
    {
     "name": "stdout",
     "output_type": "stream",
     "text": [
      " this is a good film this is very funny yet after this film there were no good ernest films\n"
     ]
    }
   ],
   "source": [
    "import random\n",
    "\n",
    "max_words_constraint=30\n",
    "non_zeros_indexes=X_test.shape[1]\n",
    "\n",
    "# Get a random review with less than max_words_contraint words\n",
    "while non_zeros_indexes > max_words_constraint:\n",
    "    id_random_review = random.randint(0, int(X_test.shape[0]))\n",
    "    non_zeros_indexes = len(np.nonzero(X_test[int(id_random_review),:])[0])\n",
    "    \n",
    "# Create a list of non-zeros elements for remove padding\n",
    "random_review_sample = list()\n",
    "for i in X_test[id_random_review,:].reshape(-1).tolist():\n",
    "    if i != 0:\n",
    "        random_review_sample.append(i)\n",
    "print(indexes_to_text(random_review_sample))"
   ]
  },
  {
   "cell_type": "markdown",
   "metadata": {},
   "source": [
    "**Question 3.2)** Here, we ask you to:\n",
    "- Add words progressively (get one word per time and creates a new sub-sequence containing past words)\n",
    "- Create sub-sequences of words and add padding for each one of these sub-sequences (Hint: use function *sequence.pad_sequences(seq, maxlen=maxlen)*)\n",
    "- Get the sigmoid output and print it (Hint: use *function get_activations(model, id_layer, X_batch)* on each subsequence)\n",
    "- Create a function *get_predictions* and print the conditional probability of positive prediction given the subsequence\n",
    "- Create a plot with that shows the evolution of predictions (a time series) during the time"
   ]
  },
  {
   "cell_type": "code",
   "execution_count": 141,
   "metadata": {},
   "outputs": [
    {
     "name": "stdout",
     "output_type": "stream",
     "text": [
      " [0.47254413]\n",
      " this [0.36702996]\n",
      " this is [0.45392135]\n",
      " this is a [0.5359154]\n",
      " this is a good [0.71120816]\n",
      " this is a good film [0.7703154]\n",
      " this is a good film this [0.6363136]\n",
      " this is a good film this is [0.67802244]\n",
      " this is a good film this is very [0.7139711]\n",
      " this is a good film this is very funny [0.7458125]\n",
      " this is a good film this is very funny yet [0.8559073]\n",
      " this is a good film this is very funny yet after [0.8932187]\n",
      " this is a good film this is very funny yet after this [0.7718333]\n",
      " this is a good film this is very funny yet after this film [0.829404]\n",
      " this is a good film this is very funny yet after this film there [0.674518]\n",
      " this is a good film this is very funny yet after this film there were [0.6001205]\n",
      " this is a good film this is very funny yet after this film there were no [0.6416787]\n",
      " this is a good film this is very funny yet after this film there were no good [0.7812027]\n",
      " this is a good film this is very funny yet after this film there were no good ernest [0.88088536]\n",
      " this is a good film this is very funny yet after this film there were no good ernest films [0.88690805]\n"
     ]
    },
    {
     "data": {
      "image/png": "[encoded data removed]",
      "text/plain": [
       "<matplotlib.figure.Figure at 0x7f348489d630>"
      ]
     },
     "metadata": {
      "needs_background": "light"
     },
     "output_type": "display_data"
    }
   ],
   "source": [
    "from keras.preprocessing import sequence\n",
    "\n",
    "seq = list()\n",
    "for i in range(len(random_review_sample)):\n",
    "    seq.append(random_review_sample[0:i+1])\n",
    "    \n",
    "\n",
    "Seq = sequence.pad_sequences(seq, maxlen=maxlen)\n",
    "x = get_predictions(model_uni,Seq)\n",
    "\n",
    "for i in range(len(x)):\n",
    "    print(indexes_to_text(seq[i]),x[i])\n",
    "plt.plot(x)\n",
    "    \n",
    "def get_predictions(model,subseq):\n",
    "    return model.predict(subseq)\n",
    "    "
   ]
  },
  {
   "cell_type": "code",
   "execution_count": 146,
   "metadata": {},
   "outputs": [
    {
     "name": "stdout",
     "output_type": "stream",
     "text": [
      " i hope this group of film makers never re unites\n"
     ]
    }
   ],
   "source": [
    "import random\n",
    "\n",
    "max_words_constraint=30\n",
    "non_zeros_indexes=X_test.shape[1]\n",
    "\n",
    "# Get a random review with less than max_words_contraint words\n",
    "while non_zeros_indexes > max_words_constraint:\n",
    "    id_random_review = random.randint(0, int(X_test.shape[0]))\n",
    "    non_zeros_indexes = len(np.nonzero(X_test[int(id_random_review),:])[0])\n",
    "    \n",
    "# Create a list of non-zeros elements for remove padding\n",
    "random_review_sample = list()\n",
    "for i in X_test[id_random_review,:].reshape(-1).tolist():\n",
    "    if i != 0:\n",
    "        random_review_sample.append(i)\n",
    "print(indexes_to_text(random_review_sample))"
   ]
  },
  {
   "cell_type": "code",
   "execution_count": 147,
   "metadata": {},
   "outputs": [
    {
     "name": "stdout",
     "output_type": "stream",
     "text": [
      " [0.47254413]\n",
      " i [0.49895352]\n",
      " i hope [0.8810026]\n",
      " i hope this [0.77552193]\n",
      " i hope this group [0.7754085]\n",
      " i hope this group of [0.6831148]\n",
      " i hope this group of film [0.7452917]\n",
      " i hope this group of film makers [0.15356827]\n",
      " i hope this group of film makers never [0.13709998]\n",
      " i hope this group of film makers never re [0.03397253]\n",
      " i hope this group of film makers never re unites [0.06712845]\n"
     ]
    },
    {
     "data": {
      "text/plain": [
       "[<matplotlib.lines.Line2D at 0x7f348ba2d828>]"
      ]
     },
     "execution_count": 147,
     "metadata": {},
     "output_type": "execute_result"
    },
    {
     "data": {
      "image/png": "[encoded data removed]",
      "text/plain": [
       "<matplotlib.figure.Figure at 0x7f34849242e8>"
      ]
     },
     "metadata": {
      "needs_background": "light"
     },
     "output_type": "display_data"
    }
   ],
   "source": [
    "seq = list()\n",
    "for i in range(len(random_review_sample)):\n",
    "    seq.append(random_review_sample[0:i+1])\n",
    "    \n",
    "\n",
    "Seq = sequence.pad_sequences(seq, maxlen=maxlen)\n",
    "x = get_predictions(model_uni,Seq)\n",
    "\n",
    "for i in range(len(x)):\n",
    "    print(indexes_to_text(seq[i]),x[i])\n",
    "plt.plot(x)\n",
    "    "
   ]
  },
  {
   "cell_type": "markdown",
   "metadata": {},
   "source": [
    "### 3.3) Create your own movie review and test it with predictions of your trained model\n",
    "\n",
    "**Question 3.3)** Now, it is you turn to:\n",
    "- Generate your own reviews (both bads and goods)\n",
    "- Lowercase all words of sentence (Hint: *.lower()*)\n",
    "- Use a tokenizer or a simple split for separate words (Hint: *.split(' ')*)\n",
    "- Excludes words that are not in vocabulary\n",
    "- Replace words by indexes\n",
    "- Get the prediction result for each word of your review (Hint: use the function created in the last exercice)"
   ]
  },
  {
   "cell_type": "code",
   "execution_count": 184,
   "metadata": {},
   "outputs": [
    {
     "name": "stdout",
     "output_type": "stream",
     "text": [
      "[75, 19, 112, 64, 171]\n",
      " bad [0.6194007]\n",
      " bad film [0.6506813]\n",
      " bad film never [0.33848476]\n",
      " bad film never see [0.15143105]\n",
      " bad film never see again [0.22763875]\n"
     ]
    },
    {
     "data": {
      "text/plain": [
       "[<matplotlib.lines.Line2D at 0x7f347def3240>]"
      ]
     },
     "execution_count": 184,
     "metadata": {},
     "output_type": "execute_result"
    },
    {
     "data": {
      "image/png": "[encoded data removed]",
      "text/plain": [
       "<matplotlib.figure.Figure at 0x7f347e1e8860>"
      ]
     },
     "metadata": {
      "needs_background": "light"
     },
     "output_type": "display_data"
    }
   ],
   "source": [
    "text = \"bad film never see again\"\n",
    "text = text.lower()\n",
    "text = text.split(' ')\n",
    "\n",
    "def text_to_index(text):\n",
    "    result = list()\n",
    "    for i in text:\n",
    "        if i not in word_index:\n",
    "            continue\n",
    "        try:\n",
    "            result.append((word_index[i]))\n",
    "        except:\n",
    "            continue\n",
    "    return result  \n",
    "\n",
    "y = text_to_index(text)\n",
    "print(y)\n",
    "\n",
    "\n",
    "seq = list()\n",
    "for i in range(len(y)):\n",
    "    seq.append(y[0:i+1])\n",
    "\n",
    "Seq = sequence.pad_sequences(seq, maxlen=500)\n",
    "x = get_predictions(model_uni,Seq)\n",
    "\n",
    "#correct index\n",
    "for i in range(len(x)):\n",
    "    for u in range(len(seq[i])):\n",
    "          seq[i][u]+=3\n",
    "    print(indexes_to_text(seq[i]),x[i])\n",
    "    \n",
    "plt.plot(x)"
   ]
  }
 ],
 "metadata": {
  "kernelspec": {
   "display_name": "Python 3",
   "language": "python",
   "name": "python3"
  },
  "language_info": {
   "codemirror_mode": {
    "name": "ipython",
    "version": 3
   },
   "file_extension": ".py",
   "mimetype": "text/x-python",
   "name": "python",
   "nbconvert_exporter": "python",
   "pygments_lexer": "ipython3",
   "version": "3.6.7"
  }
 },
 "nbformat": 4,
 "nbformat_minor": 1
}
