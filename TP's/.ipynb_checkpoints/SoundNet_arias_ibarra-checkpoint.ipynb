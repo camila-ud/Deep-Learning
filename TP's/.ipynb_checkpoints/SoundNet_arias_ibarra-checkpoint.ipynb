{
 "cells": [
  {
   "cell_type": "markdown",
   "metadata": {},
   "source": [
    "# SoundNet: Learning Sound\n",
    "Representations from Unlabeled Video\n",
    "---\n",
    "---\n",
    "<img src=\"../TP's/images/IMT_Atlantique.jpg\" width=\"200\">\n",
    "\n",
    "Authors:\n",
    "`ARIAS Camila and IBARRA Kevin`\n",
    "\n"
   ]
  },
  {
   "cell_type": "markdown",
   "metadata": {},
   "source": [
    "The purpose of this notebook is explain how `SoundNet` works (the maths, the code and the experiments). Soundnet  was developed in 2016 in order to use the natural synchronization between vision and sound to learn an acoustic representation from a large amount of unlabeled videos.\n",
    "\n",
    "[Scientific article reference](https://arxiv.org/pdf/1610.09001.pdf)  by Yusuf Aytar, Carl Vondrick, Antonio Torralba. NIPS 2016\n",
    "\n",
    "[SoundNet in Keras](https://github.com/brain-bzh/soundnet_keras) SoundNet, built in Keras with pre-trained 8-layer model.\n",
    "\n",
    "\n",
    "\n",
    "# Presentation of the problem"
   ]
  },
  {
   "cell_type": "raw",
   "metadata": {},
   "source": [
    "Describir el problema\n"
   ]
  },
  {
   "cell_type": "markdown",
   "metadata": {},
   "source": [
    "There are a lot of works related to object recognition, speech recognition and machine translation using labeled dataset as reference but it is not the same in understanding of natural sound maybe is because is expensive and ambiguos to collect labeled sound."
   ]
  },
  {
   "cell_type": "markdown",
   "metadata": {},
   "source": [
    ">How to transfer discriminative visual knowlegde into sound using labeled video as a brigde"
   ]
  },
  {
   "cell_type": "markdown",
   "metadata": {},
   "source": [
    "Deep convolutional network learns directly from **raw audio** waveform but the model is training with visual supervision"
   ]
  },
  {
   "attachments": {},
   "cell_type": "markdown",
   "metadata": {},
   "source": [
    "Other studies are focus on features such as spectograms and MFC, on other hand,  Soundnet is focus in the natural sound. \n",
    "* 2M Train --deep fully convolutional network\n",
    "* Teacher-student model **Transfer model**\n",
    "* Without truth sound labels\n",
    "* Videos Flick\n",
    "* sound mp3 explicar en el codifgo\n",
    "\n",
    "            \n",
    "## Architecture\n",
    "![sound.jpeg](../TP's/images/sound.jpeg)"
   ]
  },
  {
   "cell_type": "markdown",
   "metadata": {},
   "source": [
    "SoundNet is a deep convolutional network, layers are described as follow:\n",
    "    \n",
    "1. `One dimensional convolutions` \n",
    "\n",
    "    Why does it use convolutional into sound data?\n",
    "    Because they are invariables to translation making the number of parameters are reduced \n",
    "    \n",
    "   stack layers: Detect high level features **\n",
    "\n",
    "2. `Fully connected`\n",
    "3. `Pooling` \n",
    "    \n",
    "    "
   ]
  },
  {
   "cell_type": "markdown",
   "metadata": {},
   "source": [
    "## Math in training"
   ]
  },
  {
   "cell_type": "markdown",
   "metadata": {},
   "source": [
    "Now we are explain the math behind this project. It is important make a mention in the training phase they used video and sound, but the aim is learn by sound, so in the compile model there is not video as input. \n",
    "\n",
    "*Training phase*\n",
    "\n",
    "For the inputs the model needs the raw audio waveform $$x_i \\in \\mathcal{R}^D$$ and the video $$y_i \\in \\mathcal{R}^{3xTxWxH}$$"
   ]
  },
  {
   "cell_type": "markdown",
   "metadata": {},
   "source": [
    "## Key aspects of the learning setting"
   ]
  },
  {
   "cell_type": "markdown",
   "metadata": {},
   "source": [
    "# code: model pre-trained"
   ]
  },
  {
   "cell_type": "markdown",
   "metadata": {},
   "source": [
    "Finally, we are going to understand the code and explain how it is works. \n",
    "\n",
    "The code given by the teacher staff correspond to [SoundNet](https://github.com/brain-bzh/soundnet_keras) built in Keras with pre-trained **8-layer model**. \n",
    "\n",
    "So, the first thing to do is obtain a model with the weigths pre-trained. \n",
    "Let's import the libraries"
   ]
  },
  {
   "cell_type": "code",
   "execution_count": null,
   "metadata": {},
   "outputs": [],
   "source": [
    "# -*- coding: utf-8 -*-\n",
    "from keras.layers import BatchNormalization, Activation, Conv1D, MaxPooling1D, ZeroPadding1D, InputLayer\n",
    "from keras.models import Sequential\n",
    "import numpy as np\n",
    "import librosa #audio library"
   ]
  },
  {
   "cell_type": "markdown",
   "metadata": {},
   "source": [
    "# The configuration of the layers \n",
    "\n",
    "<img src=\"../TP's/images/layers.png\" width=\"600\">\n",
    "\n",
    "Now `build_model` make soundNet according to the structure defined by the authors. This model has as input the audio raw waveform and two output:scenes and objet distribution"
   ]
  },
  {
   "cell_type": "code",
   "execution_count": null,
   "metadata": {},
   "outputs": [],
   "source": [
    "def build_model():\n",
    "    \"\"\"\n",
    "    Builds up the SoundNet model and loads the weights from a given model file (8-layer model is kept at models/sound8.npy).\n",
    "    :return:\n",
    "    \"\"\"\n",
    "    model_weights = np.load('models/sound8.npy',encoding = 'latin1').item()\n",
    "    model = Sequential()\n",
    "    #Input layer: audio raw waveform (1,length_audio,1)\n",
    "    model.add(InputLayer(batch_input_shape=(1, None, 1)))\n",
    "\n",
    "    filter_parameters = [{'name': 'conv1', 'num_filters': 16, 'padding': 32,\n",
    "                          'kernel_size': 64, 'conv_strides': 2,\n",
    "                          'pool_size': 8, 'pool_strides': 8}, #pool1\n",
    "\n",
    "                         {'name': 'conv2', 'num_filters': 32, 'padding': 16,\n",
    "                          'kernel_size': 32, 'conv_strides': 2,\n",
    "                          'pool_size': 8, 'pool_strides': 8}, #pool2\n",
    "\n",
    "                         {'name': 'conv3', 'num_filters': 64, 'padding': 8,\n",
    "                          'kernel_size': 16, 'conv_strides': 2},\n",
    "\n",
    "                         {'name': 'conv4', 'num_filters': 128, 'padding': 4,\n",
    "                          'kernel_size': 8, 'conv_strides': 2},\n",
    "\n",
    "                         {'name': 'conv5', 'num_filters': 256, 'padding': 2,\n",
    "                          'kernel_size': 4, 'conv_strides': 2,\n",
    "                          'pool_size': 4, 'pool_strides': 4}, #pool5\n",
    "\n",
    "                         {'name': 'conv6', 'num_filters': 512, 'padding': 2,\n",
    "                          'kernel_size': 4, 'conv_strides': 2},\n",
    "\n",
    "                         {'name': 'conv7', 'num_filters': 1024, 'padding': 2,\n",
    "                          'kernel_size': 4, 'conv_strides': 2},\n",
    "\n",
    "                         {'name': 'conv8_2', 'num_filters': 401, 'padding': 0,\n",
    "                          'kernel_size': 8, 'conv_strides': 2},#output: VGG 401 classes\n",
    "                         ]\n",
    "\n",
    "    for x in filter_parameters:\n",
    "        #for each [zero_padding - conv - batchNormalization - relu]\n",
    "        model.add(ZeroPadding1D(padding=x['padding']))\n",
    "        model.add(Conv1D(x['num_filters'],\n",
    "                         kernel_size=x['kernel_size'],\n",
    "                         strides=x['conv_strides'],\n",
    "                         padding='valid'))\n",
    "        weights = model_weights[x['name']]['weights'].reshape(model.layers[-1].get_weights()[0].shape)\n",
    "        biases = model_weights[x['name']]['biases']\n",
    "\n",
    "        model.layers[-1].set_weights([weights, biases])  #set weights in conv\n",
    "\n",
    "        if 'conv8' not in x['name']:\n",
    "            print('inside')\n",
    "            gamma = model_weights[x['name']]['gamma']\n",
    "            beta = model_weights[x['name']]['beta']\n",
    "            mean = model_weights[x['name']]['mean']\n",
    "            var = model_weights[x['name']]['var']\n",
    "\n",
    "            \n",
    "            model.add(BatchNormalization())\n",
    "            model.layers[-1].set_weights([gamma, beta, mean, var]) #set weights in batchNormalization\n",
    "            model.add(Activation('relu'))\n",
    "            \n",
    "        if 'pool_size' in x:\n",
    "            #add 3 pooling layers\n",
    "            model.add(MaxPooling1D(pool_size=x['pool_size'],\n",
    "                                   strides=x['pool_strides'],\n",
    "                                   padding='valid'))\n",
    "\n",
    "    return model\n"
   ]
  },
  {
   "cell_type": "markdown",
   "metadata": {},
   "source": [
    "## Audio preprocessing"
   ]
  },
  {
   "cell_type": "code",
   "execution_count": null,
   "metadata": {},
   "outputs": [],
   "source": [
    "def preprocess(audio):\n",
    "    audio *= 256.0  # SoundNet needs the range to be between -256 and 256\n",
    "    # reshaping the audio data so it fits into the graph (batch_size, num_samples, num_filter_channels)\n",
    "    audio = np.reshape(audio, (1, -1, 1))\n",
    "    return audio\n",
    "\n",
    "\n",
    "def load_audio(audio_file):\n",
    "    sample_rate = 22050  # SoundNet works on mono audio files with a sample rate of 22050.\n",
    "    audio, sr = librosa.load(audio_file, dtype='float32', sr=22050, mono=True) #load audio\n",
    "    audio = preprocess(audio) #preprocess using soundnet parameters\n",
    "    return audio"
   ]
  },
  {
   "cell_type": "markdown",
   "metadata": {},
   "source": [
    "## Construction of the model"
   ]
  },
  {
   "cell_type": "code",
   "execution_count": null,
   "metadata": {},
   "outputs": [],
   "source": [
    "from keras.utils import plot_model\n",
    "\n",
    "#Review of the model and structure\n",
    "model = build_model()\n",
    "model.summary()\n",
    "plot_model(model, to_file='model.png')\n"
   ]
  },
  {
   "cell_type": "markdown",
   "metadata": {},
   "source": [
    "# 1. First experiments"
   ]
  },
  {
   "cell_type": "code",
   "execution_count": null,
   "metadata": {},
   "outputs": [],
   "source": [
    "def predictions_to_scenes(prediction):\n",
    "    scenes = []\n",
    "    with open('../soundnet_keras-master/categories/categories_places2.txt', 'r') as f:\n",
    "        categories = f.read().split('\\n')\n",
    "        for p in range(prediction.shape[1]):\n",
    "            scenes.append(categories[np.argmax(prediction[0, p, :])])\n",
    "    return scenes\n"
   ]
  },
  {
   "cell_type": "code",
   "execution_count": null,
   "metadata": {},
   "outputs": [],
   "source": [
    "#what is the prediction?\n",
    "# let's load a audio file\n",
    "audio_test = load_audio('../soundnet_keras-master/railroad_audio.wav')\n",
    "\n",
    "import IPython.display as ipd\n",
    "ipd.Audio(audio_test) # load \n",
    "\n",
    "#sound like a railroad non?"
   ]
  },
  {
   "cell_type": "code",
   "execution_count": null,
   "metadata": {},
   "outputs": [],
   "source": [
    "prediction = model.predict(audio_test)\n",
    "print(prediction.shape)\n",
    "\n",
    "\n",
    "import seaborn as sns\n",
    "plt.figure(figsize=(8,4))\n",
    "#sns.countplot(x='label', data=prediction);"
   ]
  }
 ],
 "metadata": {
  "kernelspec": {
   "display_name": "Python 3",
   "language": "python",
   "name": "python3"
  },
  "language_info": {
   "codemirror_mode": {
    "name": "ipython",
    "version": 3
   },
   "file_extension": ".py",
   "mimetype": "text/x-python",
   "name": "python",
   "nbconvert_exporter": "python",
   "pygments_lexer": "ipython3",
   "version": "3.5.2"
  }
 },
 "nbformat": 4,
 "nbformat_minor": 2
}
